{
  "nbformat": 4,
  "nbformat_minor": 0,
  "metadata": {
    "colab": {
      "provenance": []
    },
    "kernelspec": {
      "name": "python3",
      "display_name": "Python 3"
    },
    "language_info": {
      "name": "python"
    }
  },
  "cells": [
    {
      "cell_type": "markdown",
      "source": [
        "\n",
        "\n",
        "> AntecedentSupport= No of transactions containing antecedent/total no of transactions​\n",
        "\n"
      ],
      "metadata": {
        "id": "Gjk3JiU6ZOuG"
      }
    },
    {
      "cell_type": "markdown",
      "source": [
        "##Apriori"
      ],
      "metadata": {
        "id": "oEDJlhj7ZqBb"
      }
    },
    {
      "cell_type": "code",
      "execution_count": 1,
      "metadata": {
        "colab": {
          "base_uri": "https://localhost:8080/"
        },
        "id": "RvA7L5Tlf0kl",
        "outputId": "f9fc482f-019f-46d6-a4f1-4315df45337a"
      },
      "outputs": [
        {
          "output_type": "stream",
          "name": "stdout",
          "text": [
            "Requirement already satisfied: mlxtend in /usr/local/lib/python3.10/dist-packages (0.23.1)\n",
            "Requirement already satisfied: scipy>=1.2.1 in /usr/local/lib/python3.10/dist-packages (from mlxtend) (1.13.1)\n",
            "Requirement already satisfied: numpy>=1.16.2 in /usr/local/lib/python3.10/dist-packages (from mlxtend) (1.26.4)\n",
            "Requirement already satisfied: pandas>=0.24.2 in /usr/local/lib/python3.10/dist-packages (from mlxtend) (2.1.4)\n",
            "Requirement already satisfied: scikit-learn>=1.0.2 in /usr/local/lib/python3.10/dist-packages (from mlxtend) (1.3.2)\n",
            "Requirement already satisfied: matplotlib>=3.0.0 in /usr/local/lib/python3.10/dist-packages (from mlxtend) (3.7.1)\n",
            "Requirement already satisfied: joblib>=0.13.2 in /usr/local/lib/python3.10/dist-packages (from mlxtend) (1.4.2)\n",
            "Requirement already satisfied: contourpy>=1.0.1 in /usr/local/lib/python3.10/dist-packages (from matplotlib>=3.0.0->mlxtend) (1.3.0)\n",
            "Requirement already satisfied: cycler>=0.10 in /usr/local/lib/python3.10/dist-packages (from matplotlib>=3.0.0->mlxtend) (0.12.1)\n",
            "Requirement already satisfied: fonttools>=4.22.0 in /usr/local/lib/python3.10/dist-packages (from matplotlib>=3.0.0->mlxtend) (4.53.1)\n",
            "Requirement already satisfied: kiwisolver>=1.0.1 in /usr/local/lib/python3.10/dist-packages (from matplotlib>=3.0.0->mlxtend) (1.4.5)\n",
            "Requirement already satisfied: packaging>=20.0 in /usr/local/lib/python3.10/dist-packages (from matplotlib>=3.0.0->mlxtend) (24.1)\n",
            "Requirement already satisfied: pillow>=6.2.0 in /usr/local/lib/python3.10/dist-packages (from matplotlib>=3.0.0->mlxtend) (9.4.0)\n",
            "Requirement already satisfied: pyparsing>=2.3.1 in /usr/local/lib/python3.10/dist-packages (from matplotlib>=3.0.0->mlxtend) (3.1.4)\n",
            "Requirement already satisfied: python-dateutil>=2.7 in /usr/local/lib/python3.10/dist-packages (from matplotlib>=3.0.0->mlxtend) (2.8.2)\n",
            "Requirement already satisfied: pytz>=2020.1 in /usr/local/lib/python3.10/dist-packages (from pandas>=0.24.2->mlxtend) (2024.1)\n",
            "Requirement already satisfied: tzdata>=2022.1 in /usr/local/lib/python3.10/dist-packages (from pandas>=0.24.2->mlxtend) (2024.1)\n",
            "Requirement already satisfied: threadpoolctl>=2.0.0 in /usr/local/lib/python3.10/dist-packages (from scikit-learn>=1.0.2->mlxtend) (3.5.0)\n",
            "Requirement already satisfied: six>=1.5 in /usr/local/lib/python3.10/dist-packages (from python-dateutil>=2.7->matplotlib>=3.0.0->mlxtend) (1.16.0)\n"
          ]
        }
      ],
      "source": [
        "!pip install mlxtend"
      ]
    },
    {
      "cell_type": "code",
      "source": [
        "import pandas as pd\n",
        "from mlxtend.frequent_patterns import apriori\n",
        "from mlxtend.frequent_patterns import association_rules\n"
      ],
      "metadata": {
        "id": "NWCj0U50gCge"
      },
      "execution_count": 2,
      "outputs": []
    },
    {
      "cell_type": "code",
      "source": [
        "# items_data= pd.read_csv(\"/content/Groceries_dataset.csv\",header=None)\n",
        "items_data= pd.read_csv(\"/content/Grocery_data.csv\",header=None)\n",
        "print(\"Dataset:\", items_data.head(15),\"\\n\")\n"
      ],
      "metadata": {
        "colab": {
          "base_uri": "https://localhost:8080/"
        },
        "id": "zNMdYZ97gCp7",
        "outputId": "88bfc37a-67eb-4c5e-f4e4-c7fcc325a194"
      },
      "execution_count": 3,
      "outputs": [
        {
          "output_type": "stream",
          "name": "stdout",
          "text": [
            "Dataset:                    0             1              2                 3   \\\n",
            "0              shrimp       almonds        avocado    vegetables mix   \n",
            "1             burgers     meatballs           eggs               NaN   \n",
            "2             chutney           NaN            NaN               NaN   \n",
            "3              turkey       avocado            NaN               NaN   \n",
            "4       mineral water          milk     energy bar  whole wheat rice   \n",
            "5      low fat yogurt           NaN            NaN               NaN   \n",
            "6   whole wheat pasta  french fries            NaN               NaN   \n",
            "7                soup   light cream        shallot               NaN   \n",
            "8   frozen vegetables     spaghetti      green tea               NaN   \n",
            "9        french fries           NaN            NaN               NaN   \n",
            "10               eggs      pet food            NaN               NaN   \n",
            "11            cookies           NaN            NaN               NaN   \n",
            "12             turkey       burgers  mineral water              eggs   \n",
            "13          spaghetti     champagne        cookies               NaN   \n",
            "14      mineral water        salmon            NaN               NaN   \n",
            "\n",
            "              4                 5     6               7             8   \\\n",
            "0   green grapes  whole weat flour  yams  cottage cheese  energy drink   \n",
            "1            NaN               NaN   NaN             NaN           NaN   \n",
            "2            NaN               NaN   NaN             NaN           NaN   \n",
            "3            NaN               NaN   NaN             NaN           NaN   \n",
            "4      green tea               NaN   NaN             NaN           NaN   \n",
            "5            NaN               NaN   NaN             NaN           NaN   \n",
            "6            NaN               NaN   NaN             NaN           NaN   \n",
            "7            NaN               NaN   NaN             NaN           NaN   \n",
            "8            NaN               NaN   NaN             NaN           NaN   \n",
            "9            NaN               NaN   NaN             NaN           NaN   \n",
            "10           NaN               NaN   NaN             NaN           NaN   \n",
            "11           NaN               NaN   NaN             NaN           NaN   \n",
            "12   cooking oil               NaN   NaN             NaN           NaN   \n",
            "13           NaN               NaN   NaN             NaN           NaN   \n",
            "14           NaN               NaN   NaN             NaN           NaN   \n",
            "\n",
            "              9               10         11     12     13             14  \\\n",
            "0   tomato juice  low fat yogurt  green tea  honey  salad  mineral water   \n",
            "1            NaN             NaN        NaN    NaN    NaN            NaN   \n",
            "2            NaN             NaN        NaN    NaN    NaN            NaN   \n",
            "3            NaN             NaN        NaN    NaN    NaN            NaN   \n",
            "4            NaN             NaN        NaN    NaN    NaN            NaN   \n",
            "5            NaN             NaN        NaN    NaN    NaN            NaN   \n",
            "6            NaN             NaN        NaN    NaN    NaN            NaN   \n",
            "7            NaN             NaN        NaN    NaN    NaN            NaN   \n",
            "8            NaN             NaN        NaN    NaN    NaN            NaN   \n",
            "9            NaN             NaN        NaN    NaN    NaN            NaN   \n",
            "10           NaN             NaN        NaN    NaN    NaN            NaN   \n",
            "11           NaN             NaN        NaN    NaN    NaN            NaN   \n",
            "12           NaN             NaN        NaN    NaN    NaN            NaN   \n",
            "13           NaN             NaN        NaN    NaN    NaN            NaN   \n",
            "14           NaN             NaN        NaN    NaN    NaN            NaN   \n",
            "\n",
            "        15                 16               17       18         19  \n",
            "0   salmon  antioxydant juice  frozen smoothie  spinach  olive oil  \n",
            "1      NaN                NaN              NaN      NaN        NaN  \n",
            "2      NaN                NaN              NaN      NaN        NaN  \n",
            "3      NaN                NaN              NaN      NaN        NaN  \n",
            "4      NaN                NaN              NaN      NaN        NaN  \n",
            "5      NaN                NaN              NaN      NaN        NaN  \n",
            "6      NaN                NaN              NaN      NaN        NaN  \n",
            "7      NaN                NaN              NaN      NaN        NaN  \n",
            "8      NaN                NaN              NaN      NaN        NaN  \n",
            "9      NaN                NaN              NaN      NaN        NaN  \n",
            "10     NaN                NaN              NaN      NaN        NaN  \n",
            "11     NaN                NaN              NaN      NaN        NaN  \n",
            "12     NaN                NaN              NaN      NaN        NaN  \n",
            "13     NaN                NaN              NaN      NaN        NaN  \n",
            "14     NaN                NaN              NaN      NaN        NaN   \n",
            "\n"
          ]
        },
        {
          "output_type": "stream",
          "name": "stderr",
          "text": [
            "/usr/local/lib/python3.10/dist-packages/ipykernel/ipkernel.py:283: DeprecationWarning: `should_run_async` will not call `transform_cell` automatically in the future. Please pass the result to `transformed_cell` argument and any exception that happen during thetransform in `preprocessing_exc_tuple` in IPython 7.17 and above.\n",
            "  and should_run_async(code)\n"
          ]
        }
      ]
    },
    {
      "cell_type": "code",
      "source": [
        "items_data[0]"
      ],
      "metadata": {
        "colab": {
          "base_uri": "https://localhost:8080/",
          "height": 515
        },
        "id": "cJviQ30ZgbCk",
        "outputId": "d23a14c2-9cb5-4645-f91e-7c2a27cf25d2"
      },
      "execution_count": 4,
      "outputs": [
        {
          "output_type": "stream",
          "name": "stderr",
          "text": [
            "/usr/local/lib/python3.10/dist-packages/ipykernel/ipkernel.py:283: DeprecationWarning: `should_run_async` will not call `transform_cell` automatically in the future. Please pass the result to `transformed_cell` argument and any exception that happen during thetransform in `preprocessing_exc_tuple` in IPython 7.17 and above.\n",
            "  and should_run_async(code)\n"
          ]
        },
        {
          "output_type": "execute_result",
          "data": {
            "text/plain": [
              "0               shrimp\n",
              "1              burgers\n",
              "2              chutney\n",
              "3               turkey\n",
              "4        mineral water\n",
              "            ...       \n",
              "995        ground beef\n",
              "996             shrimp\n",
              "997    frozen smoothie\n",
              "998      herb & pepper\n",
              "999             turkey\n",
              "Name: 0, Length: 1000, dtype: object"
            ],
            "text/html": [
              "<div>\n",
              "<style scoped>\n",
              "    .dataframe tbody tr th:only-of-type {\n",
              "        vertical-align: middle;\n",
              "    }\n",
              "\n",
              "    .dataframe tbody tr th {\n",
              "        vertical-align: top;\n",
              "    }\n",
              "\n",
              "    .dataframe thead th {\n",
              "        text-align: right;\n",
              "    }\n",
              "</style>\n",
              "<table border=\"1\" class=\"dataframe\">\n",
              "  <thead>\n",
              "    <tr style=\"text-align: right;\">\n",
              "      <th></th>\n",
              "      <th>0</th>\n",
              "    </tr>\n",
              "  </thead>\n",
              "  <tbody>\n",
              "    <tr>\n",
              "      <th>0</th>\n",
              "      <td>shrimp</td>\n",
              "    </tr>\n",
              "    <tr>\n",
              "      <th>1</th>\n",
              "      <td>burgers</td>\n",
              "    </tr>\n",
              "    <tr>\n",
              "      <th>2</th>\n",
              "      <td>chutney</td>\n",
              "    </tr>\n",
              "    <tr>\n",
              "      <th>3</th>\n",
              "      <td>turkey</td>\n",
              "    </tr>\n",
              "    <tr>\n",
              "      <th>4</th>\n",
              "      <td>mineral water</td>\n",
              "    </tr>\n",
              "    <tr>\n",
              "      <th>...</th>\n",
              "      <td>...</td>\n",
              "    </tr>\n",
              "    <tr>\n",
              "      <th>995</th>\n",
              "      <td>ground beef</td>\n",
              "    </tr>\n",
              "    <tr>\n",
              "      <th>996</th>\n",
              "      <td>shrimp</td>\n",
              "    </tr>\n",
              "    <tr>\n",
              "      <th>997</th>\n",
              "      <td>frozen smoothie</td>\n",
              "    </tr>\n",
              "    <tr>\n",
              "      <th>998</th>\n",
              "      <td>herb &amp; pepper</td>\n",
              "    </tr>\n",
              "    <tr>\n",
              "      <th>999</th>\n",
              "      <td>turkey</td>\n",
              "    </tr>\n",
              "  </tbody>\n",
              "</table>\n",
              "<p>1000 rows × 1 columns</p>\n",
              "</div><br><label><b>dtype:</b> object</label>"
            ]
          },
          "metadata": {},
          "execution_count": 4
        }
      ]
    },
    {
      "cell_type": "code",
      "source": [
        "unique_items = (items_data[0].unique())\n",
        "print(\"Total number of unique items in a column with index 0:\", len(unique_items), \"\\n\", unique_items)"
      ],
      "metadata": {
        "colab": {
          "base_uri": "https://localhost:8080/"
        },
        "id": "DBxPFhDWgSLt",
        "outputId": "3f59b841-89e8-4e21-9578-0513fdb3ee68"
      },
      "execution_count": 5,
      "outputs": [
        {
          "output_type": "stream",
          "name": "stdout",
          "text": [
            "Total number of unique items in a column with index 0: 83 \n",
            " ['shrimp' 'burgers' 'chutney' 'turkey' 'mineral water' 'low fat yogurt'\n",
            " 'whole wheat pasta' 'soup' 'frozen vegetables' 'french fries' 'eggs'\n",
            " 'cookies' 'spaghetti' 'meatballs' 'red wine' 'rice' 'parmesan cheese'\n",
            " 'ground beef' 'sparkling water' 'herb & pepper' 'pickles' 'energy bar'\n",
            " 'fresh tuna' 'escalope' 'avocado' 'tomato sauce' 'clothes accessories'\n",
            " 'energy drink' 'chocolate' 'grated cheese' 'yogurt cake' 'mint'\n",
            " 'asparagus' 'champagne' 'ham' 'muffins' 'french wine' 'chicken' 'pasta'\n",
            " 'tomatoes' 'pancakes' 'frozen smoothie' 'carrots' 'yams' 'shallot'\n",
            " 'butter' 'light mayo' 'pepper' 'candy bars' 'cooking oil' 'milk'\n",
            " 'green tea' 'bug spray' 'oil' 'olive oil' 'salmon' 'cake' 'almonds'\n",
            " 'salt' 'strong cheese' 'hot dogs' 'pet food' 'whole wheat rice'\n",
            " 'antioxydant juice' 'honey' 'sandwich' 'salad' 'magazines' 'protein bar'\n",
            " 'mayonnaise' 'cider' 'burger sauce' 'green grapes' 'vegetables mix'\n",
            " 'bramble' 'nonfat milk' 'tomato juice' 'green beans' 'strawberries'\n",
            " 'eggplant' 'mushroom cream sauce' 'gums' 'cereals']\n"
          ]
        },
        {
          "output_type": "stream",
          "name": "stderr",
          "text": [
            "/usr/local/lib/python3.10/dist-packages/ipykernel/ipkernel.py:283: DeprecationWarning: `should_run_async` will not call `transform_cell` automatically in the future. Please pass the result to `transformed_cell` argument and any exception that happen during thetransform in `preprocessing_exc_tuple` in IPython 7.17 and above.\n",
            "  and should_run_async(code)\n"
          ]
        }
      ]
    },
    {
      "cell_type": "code",
      "source": [
        "encoded_vals=[]\n",
        "\n",
        "for i, rows in items_data.iterrows():\n",
        "    labels={}\n",
        "    uncommons=list(set(unique_items)-set(rows))\n",
        "    commons=list(set(unique_items).intersection(rows))\n",
        "\n",
        "    for un in uncommons:\n",
        "        labels[un] = 0\n",
        "    for com in commons:\n",
        "        labels[com] = 1\n",
        "    encoded_vals.append(labels)"
      ],
      "metadata": {
        "colab": {
          "base_uri": "https://localhost:8080/"
        },
        "id": "-ay-nS0CgSQw",
        "outputId": "6c2a2b25-632c-4d1d-f084-f25f4c3b7bc1"
      },
      "execution_count": 6,
      "outputs": [
        {
          "output_type": "stream",
          "name": "stderr",
          "text": [
            "/usr/local/lib/python3.10/dist-packages/ipykernel/ipkernel.py:283: DeprecationWarning: `should_run_async` will not call `transform_cell` automatically in the future. Please pass the result to `transformed_cell` argument and any exception that happen during thetransform in `preprocessing_exc_tuple` in IPython 7.17 and above.\n",
            "  and should_run_async(code)\n"
          ]
        }
      ]
    },
    {
      "cell_type": "code",
      "source": [
        "encoded_data = pd.DataFrame(encoded_vals)\n",
        "print(\"\\nOne hot encoded data:\\n\", encoded_data.head(10),\"\\n\")\n"
      ],
      "metadata": {
        "colab": {
          "base_uri": "https://localhost:8080/"
        },
        "id": "JbZq0TFXgSTo",
        "outputId": "3ba6b0a6-f9ed-478e-fed9-76ee9bbf09cf"
      },
      "execution_count": 7,
      "outputs": [
        {
          "output_type": "stream",
          "name": "stdout",
          "text": [
            "\n",
            "One hot encoded data:\n",
            "    sparkling water  bramble  escalope  french wine  mint  herb & pepper  \\\n",
            "0                0        0         0            0     0              0   \n",
            "1                0        0         0            0     0              0   \n",
            "2                0        0         0            0     0              0   \n",
            "3                0        0         0            0     0              0   \n",
            "4                0        0         0            0     0              0   \n",
            "5                0        0         0            0     0              0   \n",
            "6                0        0         0            0     0              0   \n",
            "7                0        0         0            0     0              0   \n",
            "8                0        0         0            0     0              0   \n",
            "9                0        0         0            0     0              0   \n",
            "\n",
            "   whole wheat rice  eggplant  carrots  cooking oil  ...  frozen smoothie  \\\n",
            "0                 0         0        0            0  ...                1   \n",
            "1                 0         0        0            0  ...                0   \n",
            "2                 0         0        0            0  ...                0   \n",
            "3                 0         0        0            0  ...                0   \n",
            "4                 1         0        0            0  ...                0   \n",
            "5                 0         0        0            0  ...                0   \n",
            "6                 0         0        0            0  ...                0   \n",
            "7                 0         0        0            0  ...                0   \n",
            "8                 0         0        0            0  ...                0   \n",
            "9                 0         0        0            0  ...                0   \n",
            "\n",
            "   green tea  vegetables mix  honey  energy drink  mineral water  shrimp  \\\n",
            "0          1               1      1             1              1       1   \n",
            "1          0               0      0             0              0       0   \n",
            "2          0               0      0             0              0       0   \n",
            "3          0               0      0             0              0       0   \n",
            "4          1               0      0             0              1       0   \n",
            "5          0               0      0             0              0       0   \n",
            "6          0               0      0             0              0       0   \n",
            "7          0               0      0             0              0       0   \n",
            "8          1               0      0             0              0       0   \n",
            "9          0               0      0             0              0       0   \n",
            "\n",
            "   almonds  olive oil  yams  \n",
            "0        1          1     1  \n",
            "1        0          0     0  \n",
            "2        0          0     0  \n",
            "3        0          0     0  \n",
            "4        0          0     0  \n",
            "5        0          0     0  \n",
            "6        0          0     0  \n",
            "7        0          0     0  \n",
            "8        0          0     0  \n",
            "9        0          0     0  \n",
            "\n",
            "[10 rows x 83 columns] \n",
            "\n"
          ]
        },
        {
          "output_type": "stream",
          "name": "stderr",
          "text": [
            "/usr/local/lib/python3.10/dist-packages/ipykernel/ipkernel.py:283: DeprecationWarning: `should_run_async` will not call `transform_cell` automatically in the future. Please pass the result to `transformed_cell` argument and any exception that happen during thetransform in `preprocessing_exc_tuple` in IPython 7.17 and above.\n",
            "  and should_run_async(code)\n"
          ]
        }
      ]
    },
    {
      "cell_type": "code",
      "source": [
        "frequent_items = apriori(encoded_data, min_support=0.0085, use_colnames=True, verbose=1)\n",
        "print(\"Top 15 frequent items:\\n\", frequent_items.head(15),\"\\n\")"
      ],
      "metadata": {
        "colab": {
          "base_uri": "https://localhost:8080/"
        },
        "id": "GE7hRCcjgSWT",
        "outputId": "04f0e939-ede4-4e5e-a1c6-6dcfcb3cbc99"
      },
      "execution_count": 8,
      "outputs": [
        {
          "output_type": "stream",
          "name": "stdout",
          "text": [
            "\rProcessing 4830 combinations | Sampling itemset size 2\rProcessing 11079 combinations | Sampling itemset size 3\rProcessing 1048 combinations | Sampling itemset size 4\n",
            "Top 15 frequent items:\n",
            "     support            itemsets\n",
            "0     0.082          (escalope)\n",
            "1     0.022       (french wine)\n",
            "2     0.022              (mint)\n",
            "3     0.068     (herb & pepper)\n",
            "4     0.050  (whole wheat rice)\n",
            "5     0.010          (eggplant)\n",
            "6     0.012           (carrots)\n",
            "7     0.055       (cooking oil)\n",
            "8     0.032        (energy bar)\n",
            "9     0.012             (cider)\n",
            "10    0.079            (turkey)\n",
            "11    0.018      (tomato sauce)\n",
            "12    0.024       (protein bar)\n",
            "13    0.026             (pasta)\n",
            "14    0.023               (ham) \n",
            "\n"
          ]
        },
        {
          "output_type": "stream",
          "name": "stderr",
          "text": [
            "/usr/local/lib/python3.10/dist-packages/ipykernel/ipkernel.py:283: DeprecationWarning: `should_run_async` will not call `transform_cell` automatically in the future. Please pass the result to `transformed_cell` argument and any exception that happen during thetransform in `preprocessing_exc_tuple` in IPython 7.17 and above.\n",
            "  and should_run_async(code)\n",
            "/usr/local/lib/python3.10/dist-packages/mlxtend/frequent_patterns/fpcommon.py:109: DeprecationWarning: DataFrames with non-bool types result in worse computationalperformance and their support might be discontinued in the future.Please use a DataFrame with bool type\n",
            "  warnings.warn(\n"
          ]
        }
      ]
    },
    {
      "cell_type": "code",
      "source": [
        "association_rule_generated_confidence= association_rules(frequent_items, metric=\"confidence\", min_threshold=0.25)\n",
        "print(\"association rules generated through confidence metrics:\\n\", association_rule_generated_confidence.head(15),\"\\n\")\n"
      ],
      "metadata": {
        "colab": {
          "base_uri": "https://localhost:8080/"
        },
        "id": "1zt6ZZIsgSYi",
        "outputId": "0b3d25bd-c0e6-4944-f2cb-9c2414dfeef0"
      },
      "execution_count": 9,
      "outputs": [
        {
          "output_type": "stream",
          "name": "stdout",
          "text": [
            "association rules generated through confidence metrics:\n",
            "            antecedents      consequents  antecedent support  \\\n",
            "0           (escalope)  (mineral water)               0.082   \n",
            "1        (french wine)      (chocolate)               0.022   \n",
            "2        (french wine)      (spaghetti)               0.022   \n",
            "3        (french wine)  (mineral water)               0.022   \n",
            "4      (herb & pepper)    (ground beef)               0.068   \n",
            "5      (herb & pepper)           (eggs)               0.068   \n",
            "6      (herb & pepper)      (spaghetti)               0.068   \n",
            "7      (herb & pepper)  (mineral water)               0.068   \n",
            "8   (whole wheat rice)      (chocolate)               0.050   \n",
            "9   (whole wheat rice)           (milk)               0.050   \n",
            "10  (whole wheat rice)      (spaghetti)               0.050   \n",
            "11  (whole wheat rice)  (mineral water)               0.050   \n",
            "12       (cooking oil)      (chocolate)               0.055   \n",
            "13       (cooking oil)           (eggs)               0.055   \n",
            "14       (cooking oil)      (spaghetti)               0.055   \n",
            "\n",
            "    consequent support  support  confidence      lift  leverage  conviction  \\\n",
            "0                0.245    0.022    0.268293  1.095072  0.001910    1.031833   \n",
            "1                0.188    0.009    0.409091  2.176015  0.004864    1.374154   \n",
            "2                0.185    0.010    0.454545  2.457002  0.005930    1.494167   \n",
            "3                0.245    0.009    0.409091  1.669759  0.003610    1.277692   \n",
            "4                0.098    0.019    0.279412  2.851140  0.012336    1.251755   \n",
            "5                0.207    0.025    0.367647  1.776073  0.010924    1.254047   \n",
            "6                0.185    0.019    0.279412  1.510334  0.006420    1.131020   \n",
            "7                0.245    0.026    0.382353  1.560624  0.009340    1.222381   \n",
            "8                0.188    0.015    0.300000  1.595745  0.005600    1.160000   \n",
            "9                0.136    0.014    0.280000  2.058824  0.007200    1.200000   \n",
            "10               0.185    0.014    0.280000  1.513514  0.004750    1.131944   \n",
            "11               0.245    0.020    0.400000  1.632653  0.007750    1.258333   \n",
            "12               0.188    0.014    0.254545  1.353965  0.003660    1.089268   \n",
            "13               0.207    0.015    0.272727  1.317523  0.003615    1.090375   \n",
            "14               0.185    0.018    0.327273  1.769042  0.007825    1.211486   \n",
            "\n",
            "    zhangs_metric  \n",
            "0        0.094573  \n",
            "1        0.552602  \n",
            "2        0.606339  \n",
            "3        0.410134  \n",
            "4        0.696634  \n",
            "5        0.468841  \n",
            "6        0.362548  \n",
            "7        0.385441  \n",
            "8        0.392982  \n",
            "9        0.541353  \n",
            "10       0.357143  \n",
            "11       0.407895  \n",
            "12       0.276644  \n",
            "13       0.255026  \n",
            "14       0.460024   \n",
            "\n"
          ]
        },
        {
          "output_type": "stream",
          "name": "stderr",
          "text": [
            "/usr/local/lib/python3.10/dist-packages/ipykernel/ipkernel.py:283: DeprecationWarning: `should_run_async` will not call `transform_cell` automatically in the future. Please pass the result to `transformed_cell` argument and any exception that happen during thetransform in `preprocessing_exc_tuple` in IPython 7.17 and above.\n",
            "  and should_run_async(code)\n"
          ]
        }
      ]
    },
    {
      "cell_type": "code",
      "source": [
        "association_rule_generated_confidence.to_csv(\"association_rule_generated_confidence.csv\")\n"
      ],
      "metadata": {
        "id": "XJCZFQgkgSaz"
      },
      "execution_count": null,
      "outputs": []
    },
    {
      "cell_type": "markdown",
      "source": [
        "##FP-Growth"
      ],
      "metadata": {
        "id": "CwVWPjFeZiGi"
      }
    },
    {
      "cell_type": "code",
      "source": [
        "# # Install necessary libraries\n",
        "# !pip install mlxtend\n",
        "\n",
        "# import pandas as pd\n",
        "from mlxtend.frequent_patterns import fpgrowth\n",
        "from mlxtend.frequent_patterns import association_rules"
      ],
      "metadata": {
        "colab": {
          "base_uri": "https://localhost:8080/"
        },
        "id": "K36d3fvdYexq",
        "outputId": "09c766c8-9021-4571-b260-793db3772846"
      },
      "execution_count": 10,
      "outputs": [
        {
          "output_type": "stream",
          "name": "stderr",
          "text": [
            "/usr/local/lib/python3.10/dist-packages/ipykernel/ipkernel.py:283: DeprecationWarning: `should_run_async` will not call `transform_cell` automatically in the future. Please pass the result to `transformed_cell` argument and any exception that happen during thetransform in `preprocessing_exc_tuple` in IPython 7.17 and above.\n",
            "  and should_run_async(code)\n"
          ]
        }
      ]
    },
    {
      "cell_type": "code",
      "source": [
        "\n",
        "\n",
        "# # Load dataset\n",
        "# items_data = pd.read_csv(\"/content/Grocery_data.csv\", header=None)\n",
        "# print(\"Dataset:\", items_data.head(15),\"\\n\")\n",
        "\n",
        "# # Extract unique items\n",
        "# unique_items = items_data[0].unique()\n",
        "# print(\"Total number of unique items in a column with index 0:\", len(unique_items), \"\\n\", unique_items)\n",
        "\n",
        "# # One-hot encoding the dataset\n",
        "# encoded_vals = []\n",
        "# for i, rows in items_data.iterrows():\n",
        "#     labels = {}\n",
        "#     uncommons = list(set(unique_items) - set(rows))\n",
        "#     commons = list(set(unique_items).intersection(rows))\n",
        "\n",
        "#     for un in uncommons:\n",
        "#         labels[un] = 0\n",
        "#     for com in commons:\n",
        "#         labels[com] = 1\n",
        "#     encoded_vals.append(labels)\n",
        "\n",
        "# encoded_data = pd.DataFrame(encoded_vals)\n",
        "# print(\"\\nOne hot encoded data:\\n\", encoded_data.head(10), \"\\n\")\n",
        "\n",
        "\n",
        "\n",
        "\n",
        "\n",
        "\n"
      ],
      "metadata": {
        "id": "db_onrCuXt0l"
      },
      "execution_count": null,
      "outputs": []
    },
    {
      "cell_type": "code",
      "source": [
        "# Apply FP-Growth algorithm\n",
        "frequent_items_fp_growth = fpgrowth(encoded_data, min_support=0.0085, use_colnames=True)\n",
        "print(\"Top 15 frequent items (FP-Growth):\\n\", frequent_items_fp_growth.head(15), \"\\n\")"
      ],
      "metadata": {
        "colab": {
          "base_uri": "https://localhost:8080/"
        },
        "id": "77OQrBFjYmJH",
        "outputId": "68c8d69e-638c-4e0e-82e1-09778f5c902a"
      },
      "execution_count": 11,
      "outputs": [
        {
          "output_type": "stream",
          "name": "stdout",
          "text": [
            "Top 15 frequent items (FP-Growth):\n",
            "     support           itemsets\n",
            "0     0.245    (mineral water)\n",
            "1     0.141        (green tea)\n",
            "2     0.083   (low fat yogurt)\n",
            "3     0.083           (shrimp)\n",
            "4     0.076        (olive oil)\n",
            "5     0.062  (frozen smoothie)\n",
            "6     0.044            (honey)\n",
            "7     0.043     (tomato juice)\n",
            "8     0.042           (salmon)\n",
            "9     0.035          (avocado)\n",
            "10    0.028             (yams)\n",
            "11    0.028          (almonds)\n",
            "12    0.025     (energy drink)\n",
            "13    0.017   (vegetables mix)\n",
            "14    0.011     (green grapes) \n",
            "\n"
          ]
        },
        {
          "output_type": "stream",
          "name": "stderr",
          "text": [
            "/usr/local/lib/python3.10/dist-packages/ipykernel/ipkernel.py:283: DeprecationWarning: `should_run_async` will not call `transform_cell` automatically in the future. Please pass the result to `transformed_cell` argument and any exception that happen during thetransform in `preprocessing_exc_tuple` in IPython 7.17 and above.\n",
            "  and should_run_async(code)\n",
            "/usr/local/lib/python3.10/dist-packages/mlxtend/frequent_patterns/fpcommon.py:109: DeprecationWarning: DataFrames with non-bool types result in worse computationalperformance and their support might be discontinued in the future.Please use a DataFrame with bool type\n",
            "  warnings.warn(\n"
          ]
        }
      ]
    },
    {
      "cell_type": "code",
      "source": [
        "# Generate association rules using confidence metric\n",
        "association_rules_fp_growth = association_rules(frequent_items_fp_growth, metric=\"confidence\", min_threshold=0.25)\n",
        "print(\"Association rules generated through confidence metrics (FP-Growth):\\n\", association_rules_fp_growth.head(15), \"\\n\")"
      ],
      "metadata": {
        "colab": {
          "base_uri": "https://localhost:8080/"
        },
        "id": "-zlcta28Yo9Q",
        "outputId": "f2a5ef69-49fb-4dde-f815-6f7e2f2d512b"
      },
      "execution_count": 12,
      "outputs": [
        {
          "output_type": "stream",
          "name": "stdout",
          "text": [
            "Association rules generated through confidence metrics (FP-Growth):\n",
            "                    antecedents      consequents  antecedent support  \\\n",
            "0   (green tea, mineral water)      (chocolate)               0.034   \n",
            "1       (chocolate, green tea)  (mineral water)               0.022   \n",
            "2             (low fat yogurt)  (mineral water)               0.083   \n",
            "3             (low fat yogurt)           (eggs)               0.083   \n",
            "4                     (shrimp)  (mineral water)               0.083   \n",
            "5                     (shrimp)      (chocolate)               0.083   \n",
            "6                     (shrimp)           (eggs)               0.083   \n",
            "7                     (shrimp)           (milk)               0.083   \n",
            "8      (shrimp, mineral water)           (eggs)               0.030   \n",
            "9               (shrimp, eggs)  (mineral water)               0.025   \n",
            "10         (shrimp, spaghetti)  (mineral water)               0.020   \n",
            "11     (shrimp, mineral water)      (spaghetti)               0.030   \n",
            "12              (shrimp, milk)  (mineral water)               0.021   \n",
            "13     (shrimp, mineral water)           (milk)               0.030   \n",
            "14                 (olive oil)  (mineral water)               0.076   \n",
            "\n",
            "    consequent support  support  confidence      lift  leverage  conviction  \\\n",
            "0                0.188    0.011    0.323529  1.720901  0.004608    1.200348   \n",
            "1                0.245    0.011    0.500000  2.040816  0.005610    1.510000   \n",
            "2                0.245    0.027    0.325301  1.327760  0.006665    1.119018   \n",
            "3                0.207    0.026    0.313253  1.513300  0.008819    1.154719   \n",
            "4                0.245    0.030    0.361446  1.475289  0.009665    1.182358   \n",
            "5                0.188    0.022    0.265060  1.409895  0.006396    1.104852   \n",
            "6                0.207    0.025    0.301205  1.455096  0.007819    1.134810   \n",
            "7                0.136    0.021    0.253012  1.860383  0.009712    1.156645   \n",
            "8                0.207    0.012    0.400000  1.932367  0.005790    1.321667   \n",
            "9                0.245    0.012    0.480000  1.959184  0.005875    1.451923   \n",
            "10               0.245    0.009    0.450000  1.836735  0.004100    1.372727   \n",
            "11               0.185    0.009    0.300000  1.621622  0.003450    1.164286   \n",
            "12               0.245    0.010    0.476190  1.943635  0.004855    1.441364   \n",
            "13               0.136    0.010    0.333333  2.450980  0.005920    1.296000   \n",
            "14               0.245    0.035    0.460526  1.879699  0.016380    1.399512   \n",
            "\n",
            "    zhangs_metric  \n",
            "0        0.433653  \n",
            "1        0.521472  \n",
            "2        0.269195  \n",
            "3        0.369893  \n",
            "4        0.351327  \n",
            "5        0.317042  \n",
            "6        0.341069  \n",
            "7        0.504336  \n",
            "8        0.497423  \n",
            "9        0.502137  \n",
            "10       0.464853  \n",
            "11       0.395189  \n",
            "12       0.495914  \n",
            "13       0.610309  \n",
            "14       0.506494   \n",
            "\n"
          ]
        },
        {
          "output_type": "stream",
          "name": "stderr",
          "text": [
            "/usr/local/lib/python3.10/dist-packages/ipykernel/ipkernel.py:283: DeprecationWarning: `should_run_async` will not call `transform_cell` automatically in the future. Please pass the result to `transformed_cell` argument and any exception that happen during thetransform in `preprocessing_exc_tuple` in IPython 7.17 and above.\n",
            "  and should_run_async(code)\n"
          ]
        }
      ]
    },
    {
      "cell_type": "code",
      "source": [
        "\n",
        " # Save the association rules to a CSV file\n",
        "association_rules_fp_growth.to_csv(\"association_rule_fp_growth.csv\")\n"
      ],
      "metadata": {
        "id": "n1z3U7UNYpOY"
      },
      "execution_count": null,
      "outputs": []
    }
  ]
}